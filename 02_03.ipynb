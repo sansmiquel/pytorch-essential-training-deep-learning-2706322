{
  "nbformat": 4,
  "nbformat_minor": 0,
  "metadata": {
    "colab": {
      "provenance": [],
      "gpuType": "T4",
      "authorship_tag": "ABX9TyM1k1iczV+CwJ+5HPSrnY+T",
      "include_colab_link": true
    },
    "kernelspec": {
      "name": "python3",
      "display_name": "Python 3"
    },
    "language_info": {
      "name": "python"
    },
    "accelerator": "GPU"
  },
  "cells": [
    {
      "cell_type": "markdown",
      "metadata": {
        "id": "view-in-github",
        "colab_type": "text"
      },
      "source": [
        "<a href=\"https://colab.research.google.com/github/sansmiquel/pytorch-essential-training-deep-learning-2706322/blob/main/02_03.ipynb\" target=\"_parent\"><img src=\"https://colab.research.google.com/assets/colab-badge.svg\" alt=\"Open In Colab\"/></a>"
      ]
    },
    {
      "cell_type": "code",
      "execution_count": null,
      "metadata": {
        "colab": {
          "base_uri": "https://localhost:8080/"
        },
        "id": "I6vx1-4bqIZd",
        "outputId": "4b91890c-c5a9-4bc5-c159-3174cfd67816"
      },
      "outputs": [
        {
          "output_type": "stream",
          "name": "stdout",
          "text": [
            "2.3.0+cu121\n"
          ]
        }
      ],
      "source": [
        "import torch\n",
        "print(torch.__version__)"
      ]
    },
    {
      "cell_type": "code",
      "source": [
        "if torch.cuda.is_available(): device = \"cuda\"\n",
        "else: device = \"cpu\"\n",
        "print(device)"
      ],
      "metadata": {
        "colab": {
          "base_uri": "https://localhost:8080/"
        },
        "id": "Bca-FsYlqN4L",
        "outputId": "4b949604-6053-40e0-d54c-ff570ed1b31f"
      },
      "execution_count": null,
      "outputs": [
        {
          "output_type": "stream",
          "name": "stdout",
          "text": [
            "cuda\n"
          ]
        }
      ]
    },
    {
      "cell_type": "code",
      "source": [
        "tens_a = torch.tensor([[10,11,12,13],[14,15,16,17]],device=device)\n",
        "tens_b = torch.tensor([[18,19,20,21],[22,23,24,25]],device=device)\n",
        "multi_tens = tens_a * tens_b\n",
        "print(multi_tens)"
      ],
      "metadata": {
        "colab": {
          "base_uri": "https://localhost:8080/"
        },
        "id": "_HFXFvqTqbAY",
        "outputId": "93319bcd-508d-4fc1-a406-865fa054c09d"
      },
      "execution_count": null,
      "outputs": [
        {
          "output_type": "stream",
          "name": "stdout",
          "text": [
            "tensor([[180, 209, 240, 273],\n",
            "        [308, 345, 384, 425]], device='cuda:0')\n"
          ]
        }
      ]
    },
    {
      "cell_type": "code",
      "source": [],
      "metadata": {
        "id": "oWWhRTamqgzt"
      },
      "execution_count": null,
      "outputs": []
    }
  ]
}