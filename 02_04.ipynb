{
  "nbformat": 4,
  "nbformat_minor": 0,
  "metadata": {
    "colab": {
      "provenance": [],
      "gpuType": "T4",
      "authorship_tag": "ABX9TyOr7MW8JA9b18XD5XwrRdvF",
      "include_colab_link": true
    },
    "kernelspec": {
      "name": "python3",
      "display_name": "Python 3"
    },
    "language_info": {
      "name": "python"
    },
    "accelerator": "GPU"
  },
  "cells": [
    {
      "cell_type": "markdown",
      "metadata": {
        "id": "view-in-github",
        "colab_type": "text"
      },
      "source": [
        "<a href=\"https://colab.research.google.com/github/sansmiquel/google-ml-crash-course/blob/main/02_04.ipynb\" target=\"_parent\"><img src=\"https://colab.research.google.com/assets/colab-badge.svg\" alt=\"Open In Colab\"/></a>"
      ]
    },
    {
      "cell_type": "code",
      "execution_count": 4,
      "metadata": {
        "colab": {
          "base_uri": "https://localhost:8080/"
        },
        "id": "ugi8zOfesWe2",
        "outputId": "804b6899-5b62-4e69-b2b4-99497f49364e"
      },
      "outputs": [
        {
          "output_type": "stream",
          "name": "stdout",
          "text": [
            "Tensor: tensor([ 5, 10, 15, 10, 25])\n",
            "Tensor device: cpu\n"
          ]
        }
      ],
      "source": [
        "import torch\n",
        "\n",
        "# create a tensor\n",
        "x = torch.tensor([5,10,15,10,25])\n",
        "print(\"Tensor:\", x)\n",
        "# check tensor device (cpu/cuda)\n",
        "print(\"Tensor device:\", x.device)\n"
      ]
    },
    {
      "cell_type": "code",
      "source": [
        "print(\"CUDA GPU:\", torch.cuda.is_available())\n",
        "if torch.cuda.is_available():\n",
        "   x = x.to(\"cuda:0\")\n",
        "   # or x=x.to(\"cuda\")\n",
        "print(x)\n",
        "\n",
        "# now check the tensor device\n",
        "print(\"Tensor device:\", x.device)"
      ],
      "metadata": {
        "colab": {
          "base_uri": "https://localhost:8080/"
        },
        "id": "57Hs1zIOscW7",
        "outputId": "1e6c692e-f70c-428d-b264-d210d59f9a91"
      },
      "execution_count": 5,
      "outputs": [
        {
          "output_type": "stream",
          "name": "stdout",
          "text": [
            "CUDA GPU: True\n",
            "tensor([ 5, 10, 15, 10, 25], device='cuda:0')\n",
            "Tensor device: cuda:0\n"
          ]
        }
      ]
    },
    {
      "cell_type": "code",
      "source": [],
      "metadata": {
        "id": "wvzrEzN-tFcy"
      },
      "execution_count": null,
      "outputs": []
    }
  ]
}